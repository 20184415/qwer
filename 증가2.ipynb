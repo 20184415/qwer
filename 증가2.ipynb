{
  "nbformat": 4,
  "nbformat_minor": 0,
  "metadata": {
    "colab": {
      "provenance": [],
      "mount_file_id": "1EflAvp80aB2wx7JKJhCw0b_how96xfn7",
      "authorship_tag": "ABX9TyPkccy8Z0hu6LtAY9YZZJLa",
      "include_colab_link": true
    },
    "kernelspec": {
      "name": "python3",
      "display_name": "Python 3"
    },
    "language_info": {
      "name": "python"
    }
  },
  "cells": [
    {
      "cell_type": "markdown",
      "metadata": {
        "id": "view-in-github",
        "colab_type": "text"
      },
      "source": [
        "<a href=\"https://colab.research.google.com/github/20184415/qwer/blob/main/%EC%A6%9D%EA%B0%802.ipynb\" target=\"_parent\"><img src=\"https://colab.research.google.com/assets/colab-badge.svg\" alt=\"Open In Colab\"/></a>"
      ]
    },
    {
      "cell_type": "code",
      "execution_count": 1,
      "metadata": {
        "colab": {
          "base_uri": "https://localhost:8080/"
        },
        "id": "Sk-12GR-q-J9",
        "outputId": "ea246585-e82d-418f-bdd1-a21d8e47fa90"
      },
      "outputs": [
        {
          "output_type": "stream",
          "name": "stdout",
          "text": [
            "Drive already mounted at /content/drive; to attempt to forcibly remount, call drive.mount(\"/content/drive\", force_remount=True).\n"
          ]
        }
      ],
      "source": [
        "from google.colab import drive\n",
        "drive.mount('/content/drive')"
      ]
    },
    {
      "cell_type": "code",
      "source": [
        "# 실행마다 동일한 결과를 얻기 위해 케라스에 랜덤 시드를 사용하고 텐서플로 연산을 결정적으로 만듭니다.\n",
        "import tensorflow as tf\n",
        "\n",
        "tf.keras.utils.set_random_seed(42)\n",
        "tf.config.experimental.enable_op_determinism()"
      ],
      "metadata": {
        "id": "4anCmrrerCbC"
      },
      "execution_count": 2,
      "outputs": []
    },
    {
      "cell_type": "code",
      "source": [
        "from PIL import Image\n",
        "import numpy as np\n",
        "import os\n",
        "import re\n",
        "\n",
        "def extract_label_from_filename(filename):\n",
        "    # 파일 이름에서 카테고리 검색\n",
        "    categories = {\n",
        "        'apple': 'apple',\n",
        "        'car': 'car',\n",
        "        'cucumber': 'cucumber',  # 'image'는 'cucumber'로 매핑\n",
        "        'zucchini': 'zucchini',    # 'r0_'는 'zucchini'로 매핑\n",
        "        'pear': 'pear'        # 'pear' 추가\n",
        "    }\n",
        "\n",
        "    for keyword, category in categories.items():\n",
        "        if re.search(re.escape(keyword), filename, re.IGNORECASE):\n",
        "            return category\n",
        "\n",
        "    return None  # 일치하는 카테고리가 없는 경우 None 반환\n",
        "\n",
        "# 이미지가 저장된 디렉토리 경로\n",
        "image_dir = '/content/drive/MyDrive/Colab Notebooks/123'\n",
        "image_files = os.listdir(image_dir)\n",
        "\n",
        "labels = []\n",
        "label_mapping = {'apple': 0, 'car': 1, 'cucumber': 2, 'zucchini': 3, 'pear': 4}\n",
        "\n",
        "for image_file in image_files:\n",
        "    label_name = extract_label_from_filename(image_file)\n",
        "    if label_name:\n",
        "        if label_name in label_mapping:\n",
        "            labels.append(label_mapping[label_name])\n",
        "        else:\n",
        "            print(f\"Warning: {label_name} is not in label mapping.\")\n",
        "    else:\n",
        "        print(f\"Warning: No valid category found in {image_file}.\")\n",
        "\n",
        "\n"
      ],
      "metadata": {
        "id": "d9Mq6inkrCec"
      },
      "execution_count": 5,
      "outputs": []
    },
    {
      "cell_type": "code",
      "source": [
        "images = []\n",
        "labels = []\n",
        "\n",
        "for image_file in image_files:\n",
        "    label_name = extract_label_from_filename(image_file)\n",
        "    if label_name and label_name in label_mapping:\n",
        "        # 이미지 경로\n",
        "        image_path = os.path.join(image_dir, image_file)\n",
        "        # 이미지 열기 및 처리\n",
        "        image = Image.open(image_path)\n",
        "        image = image.resize((28, 28))  # 이미지 크기 조정\n",
        "        image = image.convert('L')  # 흑백 변환\n",
        "        image_array = np.array(image) / 255.0  # 스케일링\n",
        "\n",
        "        # 이미지와 레이블을 리스트에 추가\n",
        "        images.append(image_array)\n",
        "        labels.append(label_mapping[label_name])\n",
        "    else:\n",
        "        print(f\"Skipping file {image_file} due to invalid category or missing label.\")\n",
        "\n",
        "# 이미지와 레이블 배열로 변환\n",
        "images = np.array(images).reshape(-1, 28, 28, 1)\n",
        "labels = np.array(labels)\n",
        "\n"
      ],
      "metadata": {
        "id": "4HfjoHfjrChk"
      },
      "execution_count": 6,
      "outputs": []
    },
    {
      "cell_type": "code",
      "source": [
        "from sklearn.model_selection import train_test_split\n",
        "train_scaled, val_scaled, train_target, val_target = train_test_split(images, labels, test_size=0.2, random_state=42)\n"
      ],
      "metadata": {
        "id": "4dYo90UBzavA"
      },
      "execution_count": 7,
      "outputs": []
    },
    {
      "cell_type": "code",
      "source": [
        "print(len(images))\n",
        "print(len(labels))\n"
      ],
      "metadata": {
        "colab": {
          "base_uri": "https://localhost:8080/"
        },
        "id": "UEEWAtEQ0DQZ",
        "outputId": "37ba17cf-5321-443f-8b06-8742e93f095d"
      },
      "execution_count": 8,
      "outputs": [
        {
          "output_type": "stream",
          "name": "stdout",
          "text": [
            "2482\n",
            "2482\n"
          ]
        }
      ]
    },
    {
      "cell_type": "code",
      "source": [
        "from tensorflow import keras\n",
        "from tensorflow.keras import layers, regularizers\n",
        "\n",
        "# CNN 모델 정의\n",
        "model = keras.Sequential()\n",
        "\n",
        "model.add(layers.Conv2D(32, kernel_size=3, activation='relu',\n",
        "                        padding='same', input_shape=(28,28,1)))\n",
        "model.add(layers.MaxPooling2D(2))\n",
        "model.add(layers.Conv2D(32, kernel_size=3, activation='relu',\n",
        "                        padding='same'))\n",
        "model.add(layers.MaxPooling2D(2))\n",
        "model.add(layers.Flatten())\n",
        "model.add(layers.Dense(100, activation='relu', kernel_regularizer=regularizers.l2(0.001)))  # 가중치 규제 추가\n",
        "model.add(layers.Dropout(0.5))  # 드롭아웃 추가\n",
        "model.add(layers.Dense(len(label_mapping), activation='softmax'))\n",
        "model.summary()\n",
        "\n",
        "# 모델 컴파일\n",
        "model.compile(optimizer='adam', loss='sparse_categorical_crossentropy', metrics=['accuracy'])\n",
        "\n",
        "# 체크포인트 콜백 및 얼리 스토핑 콜백 설정\n",
        "checkpoint_cb = keras.callbacks.ModelCheckpoint('best-cnn-model.h5', save_best_only=True)\n",
        "early_stopping_cb = keras.callbacks.EarlyStopping(patience=10, restore_best_weights=True)\n",
        "\n",
        "# 모델 학습\n",
        "history = model.fit(train_scaled, train_target, epochs=50,\n",
        "                    validation_data=(val_scaled, val_target),\n",
        "                    callbacks=[checkpoint_cb, early_stopping_cb])\n",
        "\n",
        "# 모델 평가\n",
        "test_loss, test_accuracy = model.evaluate(val_scaled, val_target)\n",
        "print(f\"Validation accuracy: {test_accuracy:.4f}\")\n"
      ],
      "metadata": {
        "colab": {
          "base_uri": "https://localhost:8080/"
        },
        "id": "N1Yn84cuI-EZ",
        "outputId": "ef990acc-7dff-49d5-e106-bf3e3a1cedf7"
      },
      "execution_count": 11,
      "outputs": [
        {
          "output_type": "stream",
          "name": "stdout",
          "text": [
            "Model: \"sequential_1\"\n",
            "_________________________________________________________________\n",
            " Layer (type)                Output Shape              Param #   \n",
            "=================================================================\n",
            " conv2d_2 (Conv2D)           (None, 28, 28, 32)        320       \n",
            "                                                                 \n",
            " max_pooling2d_2 (MaxPoolin  (None, 14, 14, 32)        0         \n",
            " g2D)                                                            \n",
            "                                                                 \n",
            " conv2d_3 (Conv2D)           (None, 14, 14, 32)        9248      \n",
            "                                                                 \n",
            " max_pooling2d_3 (MaxPoolin  (None, 7, 7, 32)          0         \n",
            " g2D)                                                            \n",
            "                                                                 \n",
            " flatten_1 (Flatten)         (None, 1568)              0         \n",
            "                                                                 \n",
            " dense_2 (Dense)             (None, 100)               156900    \n",
            "                                                                 \n",
            " dropout_1 (Dropout)         (None, 100)               0         \n",
            "                                                                 \n",
            " dense_3 (Dense)             (None, 5)                 505       \n",
            "                                                                 \n",
            "=================================================================\n",
            "Total params: 166973 (652.24 KB)\n",
            "Trainable params: 166973 (652.24 KB)\n",
            "Non-trainable params: 0 (0.00 Byte)\n",
            "_________________________________________________________________\n",
            "Epoch 1/50\n",
            "63/63 [==============================] - 3s 35ms/step - loss: 1.4562 - accuracy: 0.4227 - val_loss: 0.9918 - val_accuracy: 0.6157\n",
            "Epoch 2/50\n",
            "63/63 [==============================] - 2s 31ms/step - loss: 0.9485 - accuracy: 0.6327 - val_loss: 0.7143 - val_accuracy: 0.7485\n",
            "Epoch 3/50\n",
            "63/63 [==============================] - 3s 53ms/step - loss: 0.7779 - accuracy: 0.7234 - val_loss: 0.5837 - val_accuracy: 0.8028\n",
            "Epoch 4/50\n",
            "63/63 [==============================] - 3s 46ms/step - loss: 0.6671 - accuracy: 0.7758 - val_loss: 0.4975 - val_accuracy: 0.8551\n",
            "Epoch 5/50\n",
            "63/63 [==============================] - 2s 32ms/step - loss: 0.5951 - accuracy: 0.7965 - val_loss: 0.4167 - val_accuracy: 0.8893\n",
            "Epoch 6/50\n",
            "63/63 [==============================] - 2s 32ms/step - loss: 0.4821 - accuracy: 0.8589 - val_loss: 0.3783 - val_accuracy: 0.8954\n",
            "Epoch 7/50\n",
            "63/63 [==============================] - 2s 32ms/step - loss: 0.4518 - accuracy: 0.8710 - val_loss: 0.3361 - val_accuracy: 0.9155\n",
            "Epoch 8/50\n",
            "63/63 [==============================] - 2s 32ms/step - loss: 0.3857 - accuracy: 0.9018 - val_loss: 0.2925 - val_accuracy: 0.9356\n",
            "Epoch 9/50\n",
            "63/63 [==============================] - 3s 40ms/step - loss: 0.3526 - accuracy: 0.9083 - val_loss: 0.3099 - val_accuracy: 0.9175\n",
            "Epoch 10/50\n",
            "63/63 [==============================] - 3s 53ms/step - loss: 0.3373 - accuracy: 0.9214 - val_loss: 0.2672 - val_accuracy: 0.9396\n",
            "Epoch 11/50\n",
            "63/63 [==============================] - 2s 38ms/step - loss: 0.2903 - accuracy: 0.9365 - val_loss: 0.2338 - val_accuracy: 0.9497\n",
            "Epoch 12/50\n",
            "63/63 [==============================] - 2s 32ms/step - loss: 0.2610 - accuracy: 0.9531 - val_loss: 0.2128 - val_accuracy: 0.9738\n",
            "Epoch 13/50\n",
            "63/63 [==============================] - 2s 31ms/step - loss: 0.2696 - accuracy: 0.9421 - val_loss: 0.2109 - val_accuracy: 0.9557\n",
            "Epoch 14/50\n",
            "63/63 [==============================] - 2s 31ms/step - loss: 0.2729 - accuracy: 0.9365 - val_loss: 0.2793 - val_accuracy: 0.9296\n",
            "Epoch 15/50\n",
            "63/63 [==============================] - 2s 32ms/step - loss: 0.2565 - accuracy: 0.9461 - val_loss: 0.2054 - val_accuracy: 0.9678\n",
            "Epoch 16/50\n",
            "63/63 [==============================] - 3s 46ms/step - loss: 0.2288 - accuracy: 0.9562 - val_loss: 0.1903 - val_accuracy: 0.9738\n",
            "Epoch 17/50\n",
            "63/63 [==============================] - 3s 53ms/step - loss: 0.2198 - accuracy: 0.9597 - val_loss: 0.1789 - val_accuracy: 0.9698\n",
            "Epoch 18/50\n",
            "63/63 [==============================] - 2s 35ms/step - loss: 0.2281 - accuracy: 0.9526 - val_loss: 0.1708 - val_accuracy: 0.9678\n",
            "Epoch 19/50\n",
            "63/63 [==============================] - 2s 31ms/step - loss: 0.1995 - accuracy: 0.9637 - val_loss: 0.1898 - val_accuracy: 0.9678\n",
            "Epoch 20/50\n",
            "63/63 [==============================] - 2s 31ms/step - loss: 0.2890 - accuracy: 0.9350 - val_loss: 0.1643 - val_accuracy: 0.9859\n",
            "Epoch 21/50\n",
            "63/63 [==============================] - 2s 32ms/step - loss: 0.2075 - accuracy: 0.9597 - val_loss: 0.1466 - val_accuracy: 0.9799\n",
            "Epoch 22/50\n",
            "63/63 [==============================] - 2s 32ms/step - loss: 0.1944 - accuracy: 0.9657 - val_loss: 0.1534 - val_accuracy: 0.9839\n",
            "Epoch 23/50\n",
            "63/63 [==============================] - 3s 50ms/step - loss: 0.1938 - accuracy: 0.9617 - val_loss: 0.1665 - val_accuracy: 0.9598\n",
            "Epoch 24/50\n",
            "63/63 [==============================] - 3s 47ms/step - loss: 0.1894 - accuracy: 0.9673 - val_loss: 0.1536 - val_accuracy: 0.9738\n",
            "Epoch 25/50\n",
            "63/63 [==============================] - 2s 32ms/step - loss: 0.1775 - accuracy: 0.9748 - val_loss: 0.1419 - val_accuracy: 0.9738\n",
            "Epoch 26/50\n",
            "63/63 [==============================] - 2s 32ms/step - loss: 0.1673 - accuracy: 0.9698 - val_loss: 0.1375 - val_accuracy: 0.9879\n",
            "Epoch 27/50\n",
            "63/63 [==============================] - 2s 32ms/step - loss: 0.1476 - accuracy: 0.9763 - val_loss: 0.1227 - val_accuracy: 0.9879\n",
            "Epoch 28/50\n",
            "63/63 [==============================] - 2s 32ms/step - loss: 0.1502 - accuracy: 0.9793 - val_loss: 0.1209 - val_accuracy: 0.9920\n",
            "Epoch 29/50\n",
            "63/63 [==============================] - 2s 36ms/step - loss: 0.1494 - accuracy: 0.9748 - val_loss: 0.1279 - val_accuracy: 0.9819\n",
            "Epoch 30/50\n",
            "63/63 [==============================] - 3s 54ms/step - loss: 0.1435 - accuracy: 0.9793 - val_loss: 0.1142 - val_accuracy: 0.9839\n",
            "Epoch 31/50\n",
            "63/63 [==============================] - 3s 42ms/step - loss: 0.1443 - accuracy: 0.9753 - val_loss: 0.1163 - val_accuracy: 0.9859\n",
            "Epoch 32/50\n",
            "63/63 [==============================] - 2s 31ms/step - loss: 0.1589 - accuracy: 0.9673 - val_loss: 0.1260 - val_accuracy: 0.9799\n",
            "Epoch 33/50\n",
            "63/63 [==============================] - 2s 32ms/step - loss: 0.1499 - accuracy: 0.9748 - val_loss: 0.1267 - val_accuracy: 0.9779\n",
            "Epoch 34/50\n",
            "63/63 [==============================] - 2s 31ms/step - loss: 0.1531 - accuracy: 0.9718 - val_loss: 0.1148 - val_accuracy: 0.9859\n",
            "Epoch 35/50\n",
            "63/63 [==============================] - 2s 32ms/step - loss: 0.1524 - accuracy: 0.9713 - val_loss: 0.1666 - val_accuracy: 0.9678\n",
            "Epoch 36/50\n",
            "63/63 [==============================] - 3s 41ms/step - loss: 0.2940 - accuracy: 0.9239 - val_loss: 0.1539 - val_accuracy: 0.9759\n",
            "Epoch 37/50\n",
            "63/63 [==============================] - 3s 51ms/step - loss: 0.1630 - accuracy: 0.9738 - val_loss: 0.1279 - val_accuracy: 0.9799\n",
            "Epoch 38/50\n",
            "63/63 [==============================] - 2s 36ms/step - loss: 0.1617 - accuracy: 0.9713 - val_loss: 0.1223 - val_accuracy: 0.9859\n",
            "Epoch 39/50\n",
            "63/63 [==============================] - 2s 32ms/step - loss: 0.1445 - accuracy: 0.9773 - val_loss: 0.1123 - val_accuracy: 0.9920\n",
            "Epoch 40/50\n",
            "63/63 [==============================] - 2s 32ms/step - loss: 0.1322 - accuracy: 0.9788 - val_loss: 0.1067 - val_accuracy: 0.9859\n",
            "Epoch 41/50\n",
            "63/63 [==============================] - 2s 31ms/step - loss: 0.1506 - accuracy: 0.9698 - val_loss: 0.1139 - val_accuracy: 0.9839\n",
            "Epoch 42/50\n",
            "63/63 [==============================] - 2s 32ms/step - loss: 0.1371 - accuracy: 0.9783 - val_loss: 0.0995 - val_accuracy: 0.9920\n",
            "Epoch 43/50\n",
            "63/63 [==============================] - 3s 47ms/step - loss: 0.1358 - accuracy: 0.9778 - val_loss: 0.1109 - val_accuracy: 0.9799\n",
            "Epoch 44/50\n",
            "63/63 [==============================] - 3s 49ms/step - loss: 0.1179 - accuracy: 0.9859 - val_loss: 0.1129 - val_accuracy: 0.9859\n",
            "Epoch 45/50\n",
            "63/63 [==============================] - 2s 32ms/step - loss: 0.1089 - accuracy: 0.9869 - val_loss: 0.0986 - val_accuracy: 0.9839\n",
            "Epoch 46/50\n",
            "63/63 [==============================] - 2s 32ms/step - loss: 0.1301 - accuracy: 0.9804 - val_loss: 0.1024 - val_accuracy: 0.9839\n",
            "Epoch 47/50\n",
            "63/63 [==============================] - 2s 34ms/step - loss: 0.1322 - accuracy: 0.9788 - val_loss: 0.1079 - val_accuracy: 0.9819\n",
            "Epoch 48/50\n",
            "63/63 [==============================] - 2s 32ms/step - loss: 0.1231 - accuracy: 0.9824 - val_loss: 0.0897 - val_accuracy: 0.9899\n",
            "Epoch 49/50\n",
            "63/63 [==============================] - 2s 36ms/step - loss: 0.1121 - accuracy: 0.9879 - val_loss: 0.0971 - val_accuracy: 0.9839\n",
            "Epoch 50/50\n",
            "63/63 [==============================] - 3s 54ms/step - loss: 0.1197 - accuracy: 0.9839 - val_loss: 0.1206 - val_accuracy: 0.9759\n",
            "16/16 [==============================] - 0s 16ms/step - loss: 0.1206 - accuracy: 0.9759\n",
            "Validation accuracy: 0.9759\n"
          ]
        }
      ]
    },
    {
      "cell_type": "code",
      "source": [
        "import matplotlib.pyplot as plt\n",
        "plt.plot(history.history['loss'])\n",
        "plt.plot(history.history['val_loss'])\n",
        "plt.xlabel('epoch')\n",
        "plt.ylabel('loss')\n",
        "plt.legend(['train', 'val'])\n",
        "plt.show()"
      ],
      "metadata": {
        "id": "xxgdNhYGrCna",
        "colab": {
          "base_uri": "https://localhost:8080/",
          "height": 449
        },
        "outputId": "317a66c5-bede-4275-cdf1-a73b5b9813ad"
      },
      "execution_count": 13,
      "outputs": [
        {
          "output_type": "display_data",
          "data": {
            "text/plain": [
              "<Figure size 640x480 with 1 Axes>"
            ],
            "image/png": "[encoded data removed]"
          },
          "metadata": {}
        }
      ]
    }
  ]
}