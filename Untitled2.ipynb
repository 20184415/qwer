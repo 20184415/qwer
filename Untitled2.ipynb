{
  "nbformat": 4,
  "nbformat_minor": 0,
  "metadata": {
    "colab": {
      "provenance": []
    },
    "kernelspec": {
      "name": "python3",
      "display_name": "Python 3"
    },
    "language_info": {
      "name": "python"
    }
  },
  "cells": [
    {
      "cell_type": "code",
      "execution_count": 1,
      "metadata": {
        "colab": {
          "base_uri": "https://localhost:8080/"
        },
        "id": "Sk-12GR-q-J9",
        "outputId": "471f2744-7d5d-4785-99ed-7ebc3b435f0f"
      },
      "outputs": [
        {
          "output_type": "stream",
          "name": "stdout",
          "text": [
            "Drive already mounted at /content/drive; to attempt to forcibly remount, call drive.mount(\"/content/drive\", force_remount=True).\n"
          ]
        }
      ],
      "source": [
        "from google.colab import drive\n",
        "drive.mount('/content/drive')"
      ]
    },
    {
      "cell_type": "code",
      "source": [
        "# 실행마다 동일한 결과를 얻기 위해 케라스에 랜덤 시드를 사용하고 텐서플로 연산을 결정적으로 만듭니다.\n",
        "import tensorflow as tf\n",
        "\n",
        "tf.keras.utils.set_random_seed(42)\n",
        "tf.config.experimental.enable_op_determinism()"
      ],
      "metadata": {
        "id": "4anCmrrerCbC"
      },
      "execution_count": 2,
      "outputs": []
    },
    {
      "cell_type": "code",
      "source": [
        "from PIL import Image\n",
        "import numpy as np\n",
        "import os\n",
        "import re\n",
        "\n",
        "def extract_label_from_filename(filename):\n",
        "    # 파일 이름에서 카테고리 검색\n",
        "    categories = {\n",
        "        'apple': 'apple',\n",
        "        'car': 'car',\n",
        "        'image': 'cucumber',  # 'image'는 'cucumber'로 매핑\n",
        "        'r0_': 'zucchini',    # 'r0_'는 'zucchini'로 매핑\n",
        "        'pear': 'pear'        # 'pear' 추가\n",
        "    }\n",
        "\n",
        "    for keyword, category in categories.items():\n",
        "        if re.search(re.escape(keyword), filename, re.IGNORECASE):\n",
        "            return category\n",
        "\n",
        "    return None  # 일치하는 카테고리가 없는 경우 None 반환\n",
        "\n",
        "# 이미지가 저장된 디렉토리 경로\n",
        "image_dir = '/content/drive/MyDrive/Colab Notebooks/qweqwe'\n",
        "image_files = os.listdir(image_dir)\n",
        "\n",
        "labels = []\n",
        "label_mapping = {'apple': 0, 'car': 1, 'cucumber': 2, 'zucchini': 3, 'pear': 4}\n",
        "\n",
        "for image_file in image_files:\n",
        "    label_name = extract_label_from_filename(image_file)\n",
        "    if label_name:\n",
        "        if label_name in label_mapping:\n",
        "            labels.append(label_mapping[label_name])\n",
        "        else:\n",
        "            print(f\"Warning: {label_name} is not in label mapping.\")\n",
        "    else:\n",
        "        print(f\"Warning: No valid category found in {image_file}.\")\n",
        "\n",
        "\n"
      ],
      "metadata": {
        "id": "d9Mq6inkrCec"
      },
      "execution_count": 3,
      "outputs": []
    },
    {
      "cell_type": "code",
      "source": [
        "images = []\n",
        "labels = []\n",
        "\n",
        "for image_file in image_files:\n",
        "    label_name = extract_label_from_filename(image_file)\n",
        "    if label_name and label_name in label_mapping:\n",
        "        # 이미지 경로\n",
        "        image_path = os.path.join(image_dir, image_file)\n",
        "        # 이미지 열기 및 처리\n",
        "        image = Image.open(image_path)\n",
        "        image = image.resize((28, 28))  # 이미지 크기 조정\n",
        "        image = image.convert('L')  # 흑백 변환\n",
        "        image_array = np.array(image) / 255.0  # 스케일링\n",
        "\n",
        "        # 이미지와 레이블을 리스트에 추가\n",
        "        images.append(image_array)\n",
        "        labels.append(label_mapping[label_name])\n",
        "    else:\n",
        "        print(f\"Skipping file {image_file} due to invalid category or missing label.\")\n",
        "\n",
        "# 이미지와 레이블 배열로 변환\n",
        "images = np.array(images).reshape(-1, 28, 28, 1)\n",
        "labels = np.array(labels)\n",
        "\n"
      ],
      "metadata": {
        "id": "4HfjoHfjrChk"
      },
      "execution_count": 4,
      "outputs": []
    },
    {
      "cell_type": "code",
      "source": [
        "from sklearn.model_selection import train_test_split\n",
        "train_scaled, val_scaled, train_target, val_target = train_test_split(images, labels, test_size=0.3, random_state=42)\n"
      ],
      "metadata": {
        "id": "4dYo90UBzavA"
      },
      "execution_count": 5,
      "outputs": []
    },
    {
      "cell_type": "code",
      "source": [
        "print(len(images))\n",
        "print(len(labels))\n"
      ],
      "metadata": {
        "colab": {
          "base_uri": "https://localhost:8080/"
        },
        "id": "UEEWAtEQ0DQZ",
        "outputId": "a57b737d-b266-4e33-e8a0-d83202b9c027"
      },
      "execution_count": null,
      "outputs": [
        {
          "output_type": "stream",
          "name": "stdout",
          "text": [
            "509\n",
            "509\n"
          ]
        }
      ]
    },
    {
      "cell_type": "code",
      "source": [
        "from tensorflow import keras\n",
        "\n",
        "# CNN 모델 정의\n",
        "model = keras.Sequential()\n",
        "\n",
        "model.add(keras.layers.Conv2D(32, kernel_size=3, activation='relu',\n",
        "                              padding='same', input_shape=(28,28,1)))\n",
        "model.add(keras.layers.MaxPooling2D(2))\n",
        "model.add(keras.layers.Conv2D(32, kernel_size=(3,3), activation='relu',\n",
        "                              padding='same'))\n",
        "model.add(keras.layers.MaxPooling2D(2))\n",
        "model.add(keras.layers.Flatten())\n",
        "model.add(keras.layers.Dense(100, activation='relu'))\n",
        "model.add(keras.layers.Dropout(0.5))\n",
        "model.add(keras.layers.Dense(len(label_mapping), activation='softmax'))\n",
        "model.summary()\n",
        "\n",
        "# 모델 컴파일\n",
        "model.compile(optimizer='adam', loss='sparse_categorical_crossentropy', metrics=['accuracy'])\n",
        "\n",
        "# 체크포인트 콜백 및 얼리 스토핑 콜백 설정\n",
        "checkpoint_cb = keras.callbacks.ModelCheckpoint('best-cnn-model.h5', save_best_only=True)\n",
        "early_stopping_cb = keras.callbacks.EarlyStopping(patience=2, restore_best_weights=True)\n",
        "\n",
        "# 모델 학습\n",
        "history = model.fit(train_scaled, train_target, epochs=20,\n",
        "                    validation_data=(val_scaled, val_target),\n",
        "                    callbacks=[checkpoint_cb, early_stopping_cb])\n",
        "\n",
        "# 모델 평가\n",
        "test_loss, test_accuracy = model.evaluate(val_scaled, val_target)\n",
        "print(f\"Validation accuracy: {test_accuracy:.4f}\")\n"
      ],
      "metadata": {
        "id": "iyiomrlJrCkb",
        "colab": {
          "base_uri": "https://localhost:8080/"
        },
        "outputId": "adcb2e29-a78c-4609-968d-42720309f5f7"
      },
      "execution_count": 7,
      "outputs": [
        {
          "output_type": "stream",
          "name": "stdout",
          "text": [
            "Model: \"sequential_1\"\n",
            "_________________________________________________________________\n",
            " Layer (type)                Output Shape              Param #   \n",
            "=================================================================\n",
            " conv2d_2 (Conv2D)           (None, 28, 28, 32)        320       \n",
            "                                                                 \n",
            " max_pooling2d_2 (MaxPoolin  (None, 14, 14, 32)        0         \n",
            " g2D)                                                            \n",
            "                                                                 \n",
            " conv2d_3 (Conv2D)           (None, 14, 14, 32)        9248      \n",
            "                                                                 \n",
            " max_pooling2d_3 (MaxPoolin  (None, 7, 7, 32)          0         \n",
            " g2D)                                                            \n",
            "                                                                 \n",
            " flatten_1 (Flatten)         (None, 1568)              0         \n",
            "                                                                 \n",
            " dense_2 (Dense)             (None, 100)               156900    \n",
            "                                                                 \n",
            " dropout_1 (Dropout)         (None, 100)               0         \n",
            "                                                                 \n",
            " dense_3 (Dense)             (None, 5)                 505       \n",
            "                                                                 \n",
            "=================================================================\n",
            "Total params: 166973 (652.24 KB)\n",
            "Trainable params: 166973 (652.24 KB)\n",
            "Non-trainable params: 0 (0.00 Byte)\n",
            "_________________________________________________________________\n",
            "Epoch 1/20\n",
            "12/12 [==============================] - 2s 65ms/step - loss: 1.5021 - accuracy: 0.3680 - val_loss: 1.2902 - val_accuracy: 0.9020\n",
            "Epoch 2/20\n",
            "12/12 [==============================] - 0s 40ms/step - loss: 1.0888 - accuracy: 0.7135 - val_loss: 0.6493 - val_accuracy: 1.0000\n",
            "Epoch 3/20\n",
            "12/12 [==============================] - 0s 41ms/step - loss: 0.6107 - accuracy: 0.8483 - val_loss: 0.2333 - val_accuracy: 1.0000\n",
            "Epoch 4/20\n",
            "12/12 [==============================] - 0s 41ms/step - loss: 0.2871 - accuracy: 0.9382 - val_loss: 0.0791 - val_accuracy: 1.0000\n",
            "Epoch 5/20\n",
            "12/12 [==============================] - 0s 42ms/step - loss: 0.1406 - accuracy: 0.9691 - val_loss: 0.0176 - val_accuracy: 1.0000\n",
            "Epoch 6/20\n",
            "12/12 [==============================] - 0s 35ms/step - loss: 0.0934 - accuracy: 0.9747 - val_loss: 0.0088 - val_accuracy: 1.0000\n",
            "Epoch 7/20\n",
            "12/12 [==============================] - 0s 36ms/step - loss: 0.0623 - accuracy: 0.9888 - val_loss: 0.0058 - val_accuracy: 1.0000\n",
            "Epoch 8/20\n",
            "12/12 [==============================] - 0s 32ms/step - loss: 0.0361 - accuracy: 0.9944 - val_loss: 0.0054 - val_accuracy: 1.0000\n",
            "Epoch 9/20\n",
            "12/12 [==============================] - 0s 34ms/step - loss: 0.0351 - accuracy: 0.9916 - val_loss: 0.0033 - val_accuracy: 1.0000\n",
            "Epoch 10/20\n",
            "12/12 [==============================] - 0s 37ms/step - loss: 0.0319 - accuracy: 1.0000 - val_loss: 8.9313e-04 - val_accuracy: 1.0000\n",
            "Epoch 11/20\n",
            "12/12 [==============================] - 1s 49ms/step - loss: 0.0248 - accuracy: 0.9944 - val_loss: 0.0029 - val_accuracy: 1.0000\n",
            "Epoch 12/20\n",
            "12/12 [==============================] - 1s 61ms/step - loss: 0.0172 - accuracy: 1.0000 - val_loss: 5.9830e-04 - val_accuracy: 1.0000\n",
            "Epoch 13/20\n",
            "12/12 [==============================] - 1s 52ms/step - loss: 0.0133 - accuracy: 1.0000 - val_loss: 6.9179e-04 - val_accuracy: 1.0000\n",
            "Epoch 14/20\n",
            "12/12 [==============================] - 1s 62ms/step - loss: 0.0195 - accuracy: 0.9972 - val_loss: 2.7654e-04 - val_accuracy: 1.0000\n",
            "Epoch 15/20\n",
            "12/12 [==============================] - 1s 56ms/step - loss: 0.0135 - accuracy: 0.9972 - val_loss: 2.1548e-04 - val_accuracy: 1.0000\n",
            "Epoch 16/20\n",
            "12/12 [==============================] - 1s 54ms/step - loss: 0.0127 - accuracy: 0.9972 - val_loss: 1.9162e-04 - val_accuracy: 1.0000\n",
            "Epoch 17/20\n",
            "12/12 [==============================] - 1s 58ms/step - loss: 0.0151 - accuracy: 0.9972 - val_loss: 1.3697e-04 - val_accuracy: 1.0000\n",
            "Epoch 18/20\n",
            "12/12 [==============================] - 1s 56ms/step - loss: 0.0131 - accuracy: 1.0000 - val_loss: 1.7908e-04 - val_accuracy: 1.0000\n",
            "Epoch 19/20\n",
            "12/12 [==============================] - 1s 55ms/step - loss: 0.0092 - accuracy: 1.0000 - val_loss: 2.3382e-04 - val_accuracy: 1.0000\n",
            "5/5 [==============================] - 0s 15ms/step - loss: 1.3697e-04 - accuracy: 1.0000\n",
            "Validation accuracy: 1.0000\n"
          ]
        }
      ]
    },
    {
      "cell_type": "code",
      "source": [
        "from tensorflow.keras.preprocessing.image import ImageDataGenerator\n",
        "from tensorflow.keras import layers, regularizers, models\n",
        "from tensorflow.keras.optimizers import Adam\n",
        "from tensorflow.keras.callbacks import ModelCheckpoint, EarlyStopping\n",
        "\n",
        "# 데이터 증강 설정\n",
        "datagen = ImageDataGenerator(\n",
        "    rotation_range=10,\n",
        "    width_shift_range=0.1,\n",
        "    height_shift_range=0.1,\n",
        "    shear_range=0.1,\n",
        "    zoom_range=0.1,\n",
        "    horizontal_flip=True,\n",
        "    fill_mode='nearest'\n",
        ")\n",
        "\n",
        "# 증강된 데이터 생성\n",
        "train_generator = datagen.flow(train_scaled, train_target, batch_size=32)\n",
        "\n",
        "# 모델 정의\n",
        "model = models.Sequential([\n",
        "    layers.Conv2D(32, kernel_size=3, activation='relu', padding='same', input_shape=(28, 28, 1)),\n",
        "    layers.BatchNormalization(),\n",
        "    layers.MaxPooling2D(2),\n",
        "    layers.Conv2D(32, kernel_size=3, activation='relu', padding='same', kernel_regularizer=regularizers.l2(0.01)),\n",
        "    layers.BatchNormalization(),\n",
        "    layers.MaxPooling2D(2),\n",
        "    layers.Flatten(),\n",
        "    layers.Dense(128, activation='relu', kernel_regularizer=regularizers.l2(0.01)),\n",
        "    layers.Dropout(0.5),\n",
        "    layers.Dense(len(label_mapping), activation='softmax')\n",
        "])\n",
        "\n",
        "# 학습률 조정\n",
        "optimizer = Adam(learning_rate=0.0001)\n",
        "\n",
        "model.compile(optimizer=optimizer, loss='sparse_categorical_crossentropy', metrics=['accuracy'])\n",
        "\n",
        "# 체크포인트 및 조기 종료 설정\n",
        "checkpoint_cb = ModelCheckpoint('best-cnn-model.h5', save_best_only=True)\n",
        "early_stopping_cb = EarlyStopping(patience=10, restore_best_weights=True)\n",
        "\n",
        "# 모델 학습\n",
        "history = model.fit(train_generator, epochs=50, validation_data=(val_scaled, val_target), callbacks=[checkpoint_cb, early_stopping_cb])\n",
        "\n",
        "# 모델 평가\n",
        "test_loss, test_accuracy = model.evaluate(val_scaled, val_target)\n",
        "print(f\"Validation accuracy: {test_accuracy:.4f}\")\n"
      ],
      "metadata": {
        "colab": {
          "base_uri": "https://localhost:8080/"
        },
        "id": "G-Cw4F194hE_",
        "outputId": "f0efec51-d7a1-4003-c13c-7bc24530b2c2"
      },
      "execution_count": 10,
      "outputs": [
        {
          "output_type": "stream",
          "name": "stdout",
          "text": [
            "Epoch 1/50\n",
            "12/12 [==============================] - 3s 96ms/step - loss: 4.9326 - accuracy: 0.3006 - val_loss: 4.2705 - val_accuracy: 0.3137\n",
            "Epoch 2/50\n",
            "12/12 [==============================] - 1s 68ms/step - loss: 4.0204 - accuracy: 0.4775 - val_loss: 4.2410 - val_accuracy: 0.2549\n",
            "Epoch 3/50\n",
            "12/12 [==============================] - 1s 62ms/step - loss: 3.6611 - accuracy: 0.5927 - val_loss: 4.2113 - val_accuracy: 0.2549\n",
            "Epoch 4/50\n",
            "12/12 [==============================] - 1s 67ms/step - loss: 3.3903 - accuracy: 0.6854 - val_loss: 4.1828 - val_accuracy: 0.2614\n",
            "Epoch 5/50\n",
            "12/12 [==============================] - 1s 65ms/step - loss: 3.2386 - accuracy: 0.7697 - val_loss: 4.1444 - val_accuracy: 0.2941\n",
            "Epoch 6/50\n",
            "12/12 [==============================] - 1s 56ms/step - loss: 3.2046 - accuracy: 0.7669 - val_loss: 4.1104 - val_accuracy: 0.3529\n",
            "Epoch 7/50\n",
            "12/12 [==============================] - 1s 55ms/step - loss: 3.1136 - accuracy: 0.7978 - val_loss: 4.0756 - val_accuracy: 0.3464\n",
            "Epoch 8/50\n",
            "12/12 [==============================] - 1s 63ms/step - loss: 2.9989 - accuracy: 0.8202 - val_loss: 4.0512 - val_accuracy: 0.3987\n",
            "Epoch 9/50\n",
            "12/12 [==============================] - 1s 67ms/step - loss: 2.9653 - accuracy: 0.8567 - val_loss: 4.0324 - val_accuracy: 0.4183\n",
            "Epoch 10/50\n",
            "12/12 [==============================] - 1s 121ms/step - loss: 2.8915 - accuracy: 0.8680 - val_loss: 4.0138 - val_accuracy: 0.4183\n",
            "Epoch 11/50\n",
            "12/12 [==============================] - 2s 182ms/step - loss: 2.8005 - accuracy: 0.9213 - val_loss: 3.9923 - val_accuracy: 0.4183\n",
            "Epoch 12/50\n",
            "12/12 [==============================] - 1s 97ms/step - loss: 2.8305 - accuracy: 0.8848 - val_loss: 3.9777 - val_accuracy: 0.4183\n",
            "Epoch 13/50\n",
            "12/12 [==============================] - 1s 62ms/step - loss: 2.7536 - accuracy: 0.9213 - val_loss: 3.9624 - val_accuracy: 0.4183\n",
            "Epoch 14/50\n",
            "12/12 [==============================] - 1s 57ms/step - loss: 2.7825 - accuracy: 0.9242 - val_loss: 3.9422 - val_accuracy: 0.4183\n",
            "Epoch 15/50\n",
            "12/12 [==============================] - 1s 63ms/step - loss: 2.7106 - accuracy: 0.9382 - val_loss: 3.9259 - val_accuracy: 0.4183\n",
            "Epoch 16/50\n",
            "12/12 [==============================] - 1s 60ms/step - loss: 2.6733 - accuracy: 0.9438 - val_loss: 3.9029 - val_accuracy: 0.4183\n",
            "Epoch 17/50\n",
            "12/12 [==============================] - 1s 63ms/step - loss: 2.6889 - accuracy: 0.9410 - val_loss: 3.8819 - val_accuracy: 0.4183\n",
            "Epoch 18/50\n",
            "12/12 [==============================] - 1s 57ms/step - loss: 2.6420 - accuracy: 0.9410 - val_loss: 3.8464 - val_accuracy: 0.4183\n",
            "Epoch 19/50\n",
            "12/12 [==============================] - 1s 64ms/step - loss: 2.5805 - accuracy: 0.9607 - val_loss: 3.8068 - val_accuracy: 0.4183\n",
            "Epoch 20/50\n",
            "12/12 [==============================] - 1s 58ms/step - loss: 2.5974 - accuracy: 0.9410 - val_loss: 3.7637 - val_accuracy: 0.4183\n",
            "Epoch 21/50\n",
            "12/12 [==============================] - 1s 51ms/step - loss: 2.5620 - accuracy: 0.9635 - val_loss: 3.7225 - val_accuracy: 0.4183\n",
            "Epoch 22/50\n",
            "12/12 [==============================] - 1s 76ms/step - loss: 2.5521 - accuracy: 0.9607 - val_loss: 3.6688 - val_accuracy: 0.4183\n",
            "Epoch 23/50\n",
            "12/12 [==============================] - 1s 99ms/step - loss: 2.5368 - accuracy: 0.9579 - val_loss: 3.6019 - val_accuracy: 0.4183\n",
            "Epoch 24/50\n",
            "12/12 [==============================] - 1s 95ms/step - loss: 2.5085 - accuracy: 0.9663 - val_loss: 3.5277 - val_accuracy: 0.4183\n",
            "Epoch 25/50\n",
            "12/12 [==============================] - 1s 95ms/step - loss: 2.4773 - accuracy: 0.9663 - val_loss: 3.4819 - val_accuracy: 0.4183\n",
            "Epoch 26/50\n",
            "12/12 [==============================] - 1s 99ms/step - loss: 2.4908 - accuracy: 0.9466 - val_loss: 3.4005 - val_accuracy: 0.4967\n",
            "Epoch 27/50\n",
            "12/12 [==============================] - 1s 64ms/step - loss: 2.4562 - accuracy: 0.9551 - val_loss: 3.3168 - val_accuracy: 0.5425\n",
            "Epoch 28/50\n",
            "12/12 [==============================] - 1s 61ms/step - loss: 2.4369 - accuracy: 0.9663 - val_loss: 3.1870 - val_accuracy: 0.5686\n",
            "Epoch 29/50\n",
            "12/12 [==============================] - 1s 53ms/step - loss: 2.4302 - accuracy: 0.9663 - val_loss: 3.1106 - val_accuracy: 0.5686\n",
            "Epoch 30/50\n",
            "12/12 [==============================] - 1s 63ms/step - loss: 2.3809 - accuracy: 0.9888 - val_loss: 3.0486 - val_accuracy: 0.5882\n",
            "Epoch 31/50\n",
            "12/12 [==============================] - 1s 56ms/step - loss: 2.3702 - accuracy: 0.9831 - val_loss: 2.9500 - val_accuracy: 0.6863\n",
            "Epoch 32/50\n",
            "12/12 [==============================] - 1s 54ms/step - loss: 2.3822 - accuracy: 0.9522 - val_loss: 2.8436 - val_accuracy: 0.7190\n",
            "Epoch 33/50\n",
            "12/12 [==============================] - 1s 61ms/step - loss: 2.3489 - accuracy: 0.9663 - val_loss: 2.7643 - val_accuracy: 0.7582\n",
            "Epoch 34/50\n",
            "12/12 [==============================] - 1s 65ms/step - loss: 2.3198 - accuracy: 0.9663 - val_loss: 2.6649 - val_accuracy: 0.7908\n",
            "Epoch 35/50\n",
            "12/12 [==============================] - 1s 55ms/step - loss: 2.3424 - accuracy: 0.9551 - val_loss: 2.5603 - val_accuracy: 0.8497\n",
            "Epoch 36/50\n",
            "12/12 [==============================] - 1s 63ms/step - loss: 2.2966 - accuracy: 0.9747 - val_loss: 2.5048 - val_accuracy: 0.8497\n",
            "Epoch 37/50\n",
            "12/12 [==============================] - 1s 89ms/step - loss: 2.2661 - accuracy: 0.9860 - val_loss: 2.4499 - val_accuracy: 0.8693\n",
            "Epoch 38/50\n",
            "12/12 [==============================] - 1s 100ms/step - loss: 2.2602 - accuracy: 0.9719 - val_loss: 2.4013 - val_accuracy: 0.8954\n",
            "Epoch 39/50\n",
            "12/12 [==============================] - 1s 87ms/step - loss: 2.2581 - accuracy: 0.9719 - val_loss: 2.3381 - val_accuracy: 0.9281\n",
            "Epoch 40/50\n",
            "12/12 [==============================] - 1s 101ms/step - loss: 2.2163 - accuracy: 0.9888 - val_loss: 2.2862 - val_accuracy: 0.9542\n",
            "Epoch 41/50\n",
            "12/12 [==============================] - 1s 85ms/step - loss: 2.2126 - accuracy: 0.9831 - val_loss: 2.2450 - val_accuracy: 1.0000\n",
            "Epoch 42/50\n",
            "12/12 [==============================] - 1s 66ms/step - loss: 2.1933 - accuracy: 0.9860 - val_loss: 2.1948 - val_accuracy: 1.0000\n",
            "Epoch 43/50\n",
            "12/12 [==============================] - 1s 62ms/step - loss: 2.1826 - accuracy: 0.9860 - val_loss: 2.1673 - val_accuracy: 1.0000\n",
            "Epoch 44/50\n",
            "12/12 [==============================] - 1s 57ms/step - loss: 2.1800 - accuracy: 0.9888 - val_loss: 2.1520 - val_accuracy: 1.0000\n",
            "Epoch 45/50\n",
            "12/12 [==============================] - 1s 63ms/step - loss: 2.1492 - accuracy: 0.9831 - val_loss: 2.1280 - val_accuracy: 1.0000\n",
            "Epoch 46/50\n",
            "12/12 [==============================] - 1s 60ms/step - loss: 2.1287 - accuracy: 0.9944 - val_loss: 2.1002 - val_accuracy: 1.0000\n",
            "Epoch 47/50\n",
            "12/12 [==============================] - 1s 62ms/step - loss: 2.1418 - accuracy: 0.9916 - val_loss: 2.0853 - val_accuracy: 1.0000\n",
            "Epoch 48/50\n",
            "12/12 [==============================] - 1s 59ms/step - loss: 2.1210 - accuracy: 0.9747 - val_loss: 2.0883 - val_accuracy: 1.0000\n",
            "Epoch 49/50\n",
            "12/12 [==============================] - 1s 55ms/step - loss: 2.1137 - accuracy: 0.9831 - val_loss: 2.0572 - val_accuracy: 1.0000\n",
            "Epoch 50/50\n",
            "12/12 [==============================] - 1s 56ms/step - loss: 2.0863 - accuracy: 0.9803 - val_loss: 2.0331 - val_accuracy: 1.0000\n",
            "5/5 [==============================] - 0s 13ms/step - loss: 2.0331 - accuracy: 1.0000\n",
            "Validation accuracy: 1.0000\n"
          ]
        }
      ]
    },
    {
      "cell_type": "code",
      "source": [
        "import matplotlib.pyplot as plt\n",
        "plt.plot(history.history['loss'])\n",
        "plt.plot(history.history['val_loss'])\n",
        "plt.xlabel('epoch')\n",
        "plt.ylabel('loss')\n",
        "plt.legend(['train', 'val'])\n",
        "plt.show()"
      ],
      "metadata": {
        "id": "xxgdNhYGrCna",
        "colab": {
          "base_uri": "https://localhost:8080/",
          "height": 449
        },
        "outputId": "0737e0e4-4889-4dbc-f580-94e7b8c91327"
      },
      "execution_count": 11,
      "outputs": [
        {
          "output_type": "display_data",
          "data": {
            "text/plain": [
              "<Figure size 640x480 with 1 Axes>"
            ],
            "image/png": "[encoded data removed]"
          },
          "metadata": {}
        }
      ]
    }
  ]
}